{
  "nbformat": 4,
  "nbformat_minor": 0,
  "metadata": {
    "colab": {
      "name": "3.1_Univariate.ipynb",
      "provenance": [],
      "include_colab_link": true
    },
    "kernelspec": {
      "name": "python3",
      "display_name": "Python 3"
    }
  },
  "cells": [
    {
      "cell_type": "markdown",
      "metadata": {
        "id": "view-in-github",
        "colab_type": "text"
      },
      "source": [
        "<a href=\"https://colab.research.google.com/github/tapasmeher10/MLnow_2.0/blob/main/3.1_Univariate.ipynb\" target=\"_parent\"><img src=\"https://colab.research.google.com/assets/colab-badge.svg\" alt=\"Open In Colab\"/></a>"
      ]
    },
    {
      "cell_type": "markdown",
      "metadata": {
        "id": "q_569ugy6lyY"
      },
      "source": [
        "**Date Created**: June 12, 2021\n",
        "\n",
        "Topic:Univariate Linear Regression\n",
        "\n",
        "**Author**:\n",
        "Tapas Meher\n",
        "\n",
        "[[Course Repository](https://github.com/tapasmeher10/MLnow_2.0)]\n"
      ]
    },
    {
      "cell_type": "markdown",
      "metadata": {
        "id": "KmW9S6zjaauQ"
      },
      "source": [
        "## Setup"
      ]
    },
    {
      "cell_type": "code",
      "metadata": {
        "colab": {
          "base_uri": "https://localhost:8080/"
        },
        "id": "oX_QibhWsnnX",
        "outputId": "f9fb034e-55d1-4967-8cf0-33c9a48fcdde"
      },
      "source": [
        "from google.colab import drive\n",
        "drive.mount('/content/drive')"
      ],
      "execution_count": 1,
      "outputs": [
        {
          "output_type": "stream",
          "text": [
            "Mounted at /content/drive\n"
          ],
          "name": "stdout"
        }
      ]
    },
    {
      "cell_type": "code",
      "metadata": {
        "colab": {
          "base_uri": "https://localhost:8080/"
        },
        "id": "wYuNn17Isvml",
        "outputId": "e7dbe474-4bcf-43c3-eb68-b4c63180e1b1"
      },
      "source": [
        "cd '/content/drive/MyDrive/student'"
      ],
      "execution_count": 4,
      "outputs": [
        {
          "output_type": "stream",
          "text": [
            "/content/drive/MyDrive/student\n"
          ],
          "name": "stdout"
        }
      ]
    },
    {
      "cell_type": "code",
      "metadata": {
        "colab": {
          "base_uri": "https://localhost:8080/"
        },
        "id": "oR69jwALs-uP",
        "outputId": "5eed1205-3064-4e02-83b9-9969b828b233"
      },
      "source": [
        "ls"
      ],
      "execution_count": 5,
      "outputs": [
        {
          "output_type": "stream",
          "text": [
            "student-mat.csv  student-merge.R  student-por.csv  student.txt\n"
          ],
          "name": "stdout"
        }
      ]
    },
    {
      "cell_type": "code",
      "metadata": {
        "id": "0rYwvbeMtPJg"
      },
      "source": [
        "import os"
      ],
      "execution_count": 6,
      "outputs": []
    },
    {
      "cell_type": "code",
      "metadata": {
        "id": "cnGQRbmes_tZ"
      },
      "source": [
        "import pandas as pd #working with csv or excel files\n",
        "import numpy as np #working with numbers/ arrays/ tensors\n",
        "import tensorflow as tf #framework\n",
        "from tensorflow import keras #API / library \n",
        "import os #using os commands between the python language"
      ],
      "execution_count": 7,
      "outputs": []
    },
    {
      "cell_type": "code",
      "metadata": {
        "id": "VV-Ps6dJtX6B"
      },
      "source": [
        "mathData = pd.read_csv('student-mat.csv', sep=';') #load the csv file as dataframe"
      ],
      "execution_count": 8,
      "outputs": []
    },
    {
      "cell_type": "code",
      "metadata": {
        "colab": {
          "base_uri": "https://localhost:8080/",
          "height": 378
        },
        "id": "2_KId_bptr05",
        "outputId": "8f3b085e-ecca-42a5-f5fa-d10a6a95d3c1"
      },
      "source": [
        "mathData.head(10) #print the first ten rows of the dataframe"
      ],
      "execution_count": 9,
      "outputs": [
        {
          "output_type": "execute_result",
          "data": {
            "text/html": [
              "<div>\n",
              "<style scoped>\n",
              "    .dataframe tbody tr th:only-of-type {\n",
              "        vertical-align: middle;\n",
              "    }\n",
              "\n",
              "    .dataframe tbody tr th {\n",
              "        vertical-align: top;\n",
              "    }\n",
              "\n",
              "    .dataframe thead th {\n",
              "        text-align: right;\n",
              "    }\n",
              "</style>\n",
              "<table border=\"1\" class=\"dataframe\">\n",
              "  <thead>\n",
              "    <tr style=\"text-align: right;\">\n",
              "      <th></th>\n",
              "      <th>school</th>\n",
              "      <th>sex</th>\n",
              "      <th>age</th>\n",
              "      <th>address</th>\n",
              "      <th>famsize</th>\n",
              "      <th>Pstatus</th>\n",
              "      <th>Medu</th>\n",
              "      <th>Fedu</th>\n",
              "      <th>Mjob</th>\n",
              "      <th>Fjob</th>\n",
              "      <th>reason</th>\n",
              "      <th>guardian</th>\n",
              "      <th>traveltime</th>\n",
              "      <th>studytime</th>\n",
              "      <th>failures</th>\n",
              "      <th>schoolsup</th>\n",
              "      <th>famsup</th>\n",
              "      <th>paid</th>\n",
              "      <th>activities</th>\n",
              "      <th>nursery</th>\n",
              "      <th>higher</th>\n",
              "      <th>internet</th>\n",
              "      <th>romantic</th>\n",
              "      <th>famrel</th>\n",
              "      <th>freetime</th>\n",
              "      <th>goout</th>\n",
              "      <th>Dalc</th>\n",
              "      <th>Walc</th>\n",
              "      <th>health</th>\n",
              "      <th>absences</th>\n",
              "      <th>G1</th>\n",
              "      <th>G2</th>\n",
              "      <th>G3</th>\n",
              "    </tr>\n",
              "  </thead>\n",
              "  <tbody>\n",
              "    <tr>\n",
              "      <th>0</th>\n",
              "      <td>GP</td>\n",
              "      <td>F</td>\n",
              "      <td>18</td>\n",
              "      <td>U</td>\n",
              "      <td>GT3</td>\n",
              "      <td>A</td>\n",
              "      <td>4</td>\n",
              "      <td>4</td>\n",
              "      <td>at_home</td>\n",
              "      <td>teacher</td>\n",
              "      <td>course</td>\n",
              "      <td>mother</td>\n",
              "      <td>2</td>\n",
              "      <td>2</td>\n",
              "      <td>0</td>\n",
              "      <td>yes</td>\n",
              "      <td>no</td>\n",
              "      <td>no</td>\n",
              "      <td>no</td>\n",
              "      <td>yes</td>\n",
              "      <td>yes</td>\n",
              "      <td>no</td>\n",
              "      <td>no</td>\n",
              "      <td>4</td>\n",
              "      <td>3</td>\n",
              "      <td>4</td>\n",
              "      <td>1</td>\n",
              "      <td>1</td>\n",
              "      <td>3</td>\n",
              "      <td>6</td>\n",
              "      <td>5</td>\n",
              "      <td>6</td>\n",
              "      <td>6</td>\n",
              "    </tr>\n",
              "    <tr>\n",
              "      <th>1</th>\n",
              "      <td>GP</td>\n",
              "      <td>F</td>\n",
              "      <td>17</td>\n",
              "      <td>U</td>\n",
              "      <td>GT3</td>\n",
              "      <td>T</td>\n",
              "      <td>1</td>\n",
              "      <td>1</td>\n",
              "      <td>at_home</td>\n",
              "      <td>other</td>\n",
              "      <td>course</td>\n",
              "      <td>father</td>\n",
              "      <td>1</td>\n",
              "      <td>2</td>\n",
              "      <td>0</td>\n",
              "      <td>no</td>\n",
              "      <td>yes</td>\n",
              "      <td>no</td>\n",
              "      <td>no</td>\n",
              "      <td>no</td>\n",
              "      <td>yes</td>\n",
              "      <td>yes</td>\n",
              "      <td>no</td>\n",
              "      <td>5</td>\n",
              "      <td>3</td>\n",
              "      <td>3</td>\n",
              "      <td>1</td>\n",
              "      <td>1</td>\n",
              "      <td>3</td>\n",
              "      <td>4</td>\n",
              "      <td>5</td>\n",
              "      <td>5</td>\n",
              "      <td>6</td>\n",
              "    </tr>\n",
              "    <tr>\n",
              "      <th>2</th>\n",
              "      <td>GP</td>\n",
              "      <td>F</td>\n",
              "      <td>15</td>\n",
              "      <td>U</td>\n",
              "      <td>LE3</td>\n",
              "      <td>T</td>\n",
              "      <td>1</td>\n",
              "      <td>1</td>\n",
              "      <td>at_home</td>\n",
              "      <td>other</td>\n",
              "      <td>other</td>\n",
              "      <td>mother</td>\n",
              "      <td>1</td>\n",
              "      <td>2</td>\n",
              "      <td>3</td>\n",
              "      <td>yes</td>\n",
              "      <td>no</td>\n",
              "      <td>yes</td>\n",
              "      <td>no</td>\n",
              "      <td>yes</td>\n",
              "      <td>yes</td>\n",
              "      <td>yes</td>\n",
              "      <td>no</td>\n",
              "      <td>4</td>\n",
              "      <td>3</td>\n",
              "      <td>2</td>\n",
              "      <td>2</td>\n",
              "      <td>3</td>\n",
              "      <td>3</td>\n",
              "      <td>10</td>\n",
              "      <td>7</td>\n",
              "      <td>8</td>\n",
              "      <td>10</td>\n",
              "    </tr>\n",
              "    <tr>\n",
              "      <th>3</th>\n",
              "      <td>GP</td>\n",
              "      <td>F</td>\n",
              "      <td>15</td>\n",
              "      <td>U</td>\n",
              "      <td>GT3</td>\n",
              "      <td>T</td>\n",
              "      <td>4</td>\n",
              "      <td>2</td>\n",
              "      <td>health</td>\n",
              "      <td>services</td>\n",
              "      <td>home</td>\n",
              "      <td>mother</td>\n",
              "      <td>1</td>\n",
              "      <td>3</td>\n",
              "      <td>0</td>\n",
              "      <td>no</td>\n",
              "      <td>yes</td>\n",
              "      <td>yes</td>\n",
              "      <td>yes</td>\n",
              "      <td>yes</td>\n",
              "      <td>yes</td>\n",
              "      <td>yes</td>\n",
              "      <td>yes</td>\n",
              "      <td>3</td>\n",
              "      <td>2</td>\n",
              "      <td>2</td>\n",
              "      <td>1</td>\n",
              "      <td>1</td>\n",
              "      <td>5</td>\n",
              "      <td>2</td>\n",
              "      <td>15</td>\n",
              "      <td>14</td>\n",
              "      <td>15</td>\n",
              "    </tr>\n",
              "    <tr>\n",
              "      <th>4</th>\n",
              "      <td>GP</td>\n",
              "      <td>F</td>\n",
              "      <td>16</td>\n",
              "      <td>U</td>\n",
              "      <td>GT3</td>\n",
              "      <td>T</td>\n",
              "      <td>3</td>\n",
              "      <td>3</td>\n",
              "      <td>other</td>\n",
              "      <td>other</td>\n",
              "      <td>home</td>\n",
              "      <td>father</td>\n",
              "      <td>1</td>\n",
              "      <td>2</td>\n",
              "      <td>0</td>\n",
              "      <td>no</td>\n",
              "      <td>yes</td>\n",
              "      <td>yes</td>\n",
              "      <td>no</td>\n",
              "      <td>yes</td>\n",
              "      <td>yes</td>\n",
              "      <td>no</td>\n",
              "      <td>no</td>\n",
              "      <td>4</td>\n",
              "      <td>3</td>\n",
              "      <td>2</td>\n",
              "      <td>1</td>\n",
              "      <td>2</td>\n",
              "      <td>5</td>\n",
              "      <td>4</td>\n",
              "      <td>6</td>\n",
              "      <td>10</td>\n",
              "      <td>10</td>\n",
              "    </tr>\n",
              "    <tr>\n",
              "      <th>5</th>\n",
              "      <td>GP</td>\n",
              "      <td>M</td>\n",
              "      <td>16</td>\n",
              "      <td>U</td>\n",
              "      <td>LE3</td>\n",
              "      <td>T</td>\n",
              "      <td>4</td>\n",
              "      <td>3</td>\n",
              "      <td>services</td>\n",
              "      <td>other</td>\n",
              "      <td>reputation</td>\n",
              "      <td>mother</td>\n",
              "      <td>1</td>\n",
              "      <td>2</td>\n",
              "      <td>0</td>\n",
              "      <td>no</td>\n",
              "      <td>yes</td>\n",
              "      <td>yes</td>\n",
              "      <td>yes</td>\n",
              "      <td>yes</td>\n",
              "      <td>yes</td>\n",
              "      <td>yes</td>\n",
              "      <td>no</td>\n",
              "      <td>5</td>\n",
              "      <td>4</td>\n",
              "      <td>2</td>\n",
              "      <td>1</td>\n",
              "      <td>2</td>\n",
              "      <td>5</td>\n",
              "      <td>10</td>\n",
              "      <td>15</td>\n",
              "      <td>15</td>\n",
              "      <td>15</td>\n",
              "    </tr>\n",
              "    <tr>\n",
              "      <th>6</th>\n",
              "      <td>GP</td>\n",
              "      <td>M</td>\n",
              "      <td>16</td>\n",
              "      <td>U</td>\n",
              "      <td>LE3</td>\n",
              "      <td>T</td>\n",
              "      <td>2</td>\n",
              "      <td>2</td>\n",
              "      <td>other</td>\n",
              "      <td>other</td>\n",
              "      <td>home</td>\n",
              "      <td>mother</td>\n",
              "      <td>1</td>\n",
              "      <td>2</td>\n",
              "      <td>0</td>\n",
              "      <td>no</td>\n",
              "      <td>no</td>\n",
              "      <td>no</td>\n",
              "      <td>no</td>\n",
              "      <td>yes</td>\n",
              "      <td>yes</td>\n",
              "      <td>yes</td>\n",
              "      <td>no</td>\n",
              "      <td>4</td>\n",
              "      <td>4</td>\n",
              "      <td>4</td>\n",
              "      <td>1</td>\n",
              "      <td>1</td>\n",
              "      <td>3</td>\n",
              "      <td>0</td>\n",
              "      <td>12</td>\n",
              "      <td>12</td>\n",
              "      <td>11</td>\n",
              "    </tr>\n",
              "    <tr>\n",
              "      <th>7</th>\n",
              "      <td>GP</td>\n",
              "      <td>F</td>\n",
              "      <td>17</td>\n",
              "      <td>U</td>\n",
              "      <td>GT3</td>\n",
              "      <td>A</td>\n",
              "      <td>4</td>\n",
              "      <td>4</td>\n",
              "      <td>other</td>\n",
              "      <td>teacher</td>\n",
              "      <td>home</td>\n",
              "      <td>mother</td>\n",
              "      <td>2</td>\n",
              "      <td>2</td>\n",
              "      <td>0</td>\n",
              "      <td>yes</td>\n",
              "      <td>yes</td>\n",
              "      <td>no</td>\n",
              "      <td>no</td>\n",
              "      <td>yes</td>\n",
              "      <td>yes</td>\n",
              "      <td>no</td>\n",
              "      <td>no</td>\n",
              "      <td>4</td>\n",
              "      <td>1</td>\n",
              "      <td>4</td>\n",
              "      <td>1</td>\n",
              "      <td>1</td>\n",
              "      <td>1</td>\n",
              "      <td>6</td>\n",
              "      <td>6</td>\n",
              "      <td>5</td>\n",
              "      <td>6</td>\n",
              "    </tr>\n",
              "    <tr>\n",
              "      <th>8</th>\n",
              "      <td>GP</td>\n",
              "      <td>M</td>\n",
              "      <td>15</td>\n",
              "      <td>U</td>\n",
              "      <td>LE3</td>\n",
              "      <td>A</td>\n",
              "      <td>3</td>\n",
              "      <td>2</td>\n",
              "      <td>services</td>\n",
              "      <td>other</td>\n",
              "      <td>home</td>\n",
              "      <td>mother</td>\n",
              "      <td>1</td>\n",
              "      <td>2</td>\n",
              "      <td>0</td>\n",
              "      <td>no</td>\n",
              "      <td>yes</td>\n",
              "      <td>yes</td>\n",
              "      <td>no</td>\n",
              "      <td>yes</td>\n",
              "      <td>yes</td>\n",
              "      <td>yes</td>\n",
              "      <td>no</td>\n",
              "      <td>4</td>\n",
              "      <td>2</td>\n",
              "      <td>2</td>\n",
              "      <td>1</td>\n",
              "      <td>1</td>\n",
              "      <td>1</td>\n",
              "      <td>0</td>\n",
              "      <td>16</td>\n",
              "      <td>18</td>\n",
              "      <td>19</td>\n",
              "    </tr>\n",
              "    <tr>\n",
              "      <th>9</th>\n",
              "      <td>GP</td>\n",
              "      <td>M</td>\n",
              "      <td>15</td>\n",
              "      <td>U</td>\n",
              "      <td>GT3</td>\n",
              "      <td>T</td>\n",
              "      <td>3</td>\n",
              "      <td>4</td>\n",
              "      <td>other</td>\n",
              "      <td>other</td>\n",
              "      <td>home</td>\n",
              "      <td>mother</td>\n",
              "      <td>1</td>\n",
              "      <td>2</td>\n",
              "      <td>0</td>\n",
              "      <td>no</td>\n",
              "      <td>yes</td>\n",
              "      <td>yes</td>\n",
              "      <td>yes</td>\n",
              "      <td>yes</td>\n",
              "      <td>yes</td>\n",
              "      <td>yes</td>\n",
              "      <td>no</td>\n",
              "      <td>5</td>\n",
              "      <td>5</td>\n",
              "      <td>1</td>\n",
              "      <td>1</td>\n",
              "      <td>1</td>\n",
              "      <td>5</td>\n",
              "      <td>0</td>\n",
              "      <td>14</td>\n",
              "      <td>15</td>\n",
              "      <td>15</td>\n",
              "    </tr>\n",
              "  </tbody>\n",
              "</table>\n",
              "</div>"
            ],
            "text/plain": [
              "  school sex  age address famsize Pstatus  ...  Walc  health absences  G1  G2  G3\n",
              "0     GP   F   18       U     GT3       A  ...     1       3        6   5   6   6\n",
              "1     GP   F   17       U     GT3       T  ...     1       3        4   5   5   6\n",
              "2     GP   F   15       U     LE3       T  ...     3       3       10   7   8  10\n",
              "3     GP   F   15       U     GT3       T  ...     1       5        2  15  14  15\n",
              "4     GP   F   16       U     GT3       T  ...     2       5        4   6  10  10\n",
              "5     GP   M   16       U     LE3       T  ...     2       5       10  15  15  15\n",
              "6     GP   M   16       U     LE3       T  ...     1       3        0  12  12  11\n",
              "7     GP   F   17       U     GT3       A  ...     1       1        6   6   5   6\n",
              "8     GP   M   15       U     LE3       A  ...     1       1        0  16  18  19\n",
              "9     GP   M   15       U     GT3       T  ...     1       5        0  14  15  15\n",
              "\n",
              "[10 rows x 33 columns]"
            ]
          },
          "metadata": {
            "tags": []
          },
          "execution_count": 9
        }
      ]
    },
    {
      "cell_type": "code",
      "metadata": {
        "colab": {
          "base_uri": "https://localhost:8080/",
          "height": 204
        },
        "id": "Yw0PNCuTSEDC",
        "outputId": "13d90be9-0d0a-4e60-ab21-cc0e2fe449ed"
      },
      "source": [
        "uniMathData = mathData[['G1', 'G3']]\n",
        "uniMathData.head(5)"
      ],
      "execution_count": 10,
      "outputs": [
        {
          "output_type": "execute_result",
          "data": {
            "text/html": [
              "<div>\n",
              "<style scoped>\n",
              "    .dataframe tbody tr th:only-of-type {\n",
              "        vertical-align: middle;\n",
              "    }\n",
              "\n",
              "    .dataframe tbody tr th {\n",
              "        vertical-align: top;\n",
              "    }\n",
              "\n",
              "    .dataframe thead th {\n",
              "        text-align: right;\n",
              "    }\n",
              "</style>\n",
              "<table border=\"1\" class=\"dataframe\">\n",
              "  <thead>\n",
              "    <tr style=\"text-align: right;\">\n",
              "      <th></th>\n",
              "      <th>G1</th>\n",
              "      <th>G3</th>\n",
              "    </tr>\n",
              "  </thead>\n",
              "  <tbody>\n",
              "    <tr>\n",
              "      <th>0</th>\n",
              "      <td>5</td>\n",
              "      <td>6</td>\n",
              "    </tr>\n",
              "    <tr>\n",
              "      <th>1</th>\n",
              "      <td>5</td>\n",
              "      <td>6</td>\n",
              "    </tr>\n",
              "    <tr>\n",
              "      <th>2</th>\n",
              "      <td>7</td>\n",
              "      <td>10</td>\n",
              "    </tr>\n",
              "    <tr>\n",
              "      <th>3</th>\n",
              "      <td>15</td>\n",
              "      <td>15</td>\n",
              "    </tr>\n",
              "    <tr>\n",
              "      <th>4</th>\n",
              "      <td>6</td>\n",
              "      <td>10</td>\n",
              "    </tr>\n",
              "  </tbody>\n",
              "</table>\n",
              "</div>"
            ],
            "text/plain": [
              "   G1  G3\n",
              "0   5   6\n",
              "1   5   6\n",
              "2   7  10\n",
              "3  15  15\n",
              "4   6  10"
            ]
          },
          "metadata": {
            "tags": []
          },
          "execution_count": 10
        }
      ]
    },
    {
      "cell_type": "code",
      "metadata": {
        "id": "eyzP9mL4Hmb5"
      },
      "source": [
        "uniMathData.to_csv('univariate_MathData_2.csv')"
      ],
      "execution_count": 11,
      "outputs": []
    },
    {
      "cell_type": "code",
      "metadata": {
        "colab": {
          "base_uri": "https://localhost:8080/"
        },
        "id": "I-3qK_nNxnTA",
        "outputId": "a53bcec6-680c-4ce2-a803-72dceb9bd968"
      },
      "source": [
        "ls"
      ],
      "execution_count": 12,
      "outputs": [
        {
          "output_type": "stream",
          "text": [
            "student-mat.csv  student-por.csv  univariate_MathData_2.csv\n",
            "student-merge.R  student.txt\n"
          ],
          "name": "stdout"
        }
      ]
    },
    {
      "cell_type": "markdown",
      "metadata": {
        "id": "ImV3p6AKxszU"
      },
      "source": [
        "## Data visualization"
      ]
    },
    {
      "cell_type": "code",
      "metadata": {
        "colab": {
          "base_uri": "https://localhost:8080/",
          "height": 157
        },
        "id": "RqumcsZLxq4v",
        "outputId": "f83c0cd5-6dc8-4315-ab75-6718c80bca6e"
      },
      "source": [
        "import seaborn as sns\n",
        "sns.palplot(sns.color_palette('PuOr')) #Purple to Orange colors\n",
        "pal = sns.color_palette('PuOr', 6) #print 6 color shades from Purple to Orange\n",
        "pal.as_hex() #set hex code values for colors\n",
        "\n",
        "import matplotlib.pyplot as plt\n",
        "plt.style.use(['seaborn'])\n",
        "sns_colors = ['#c6690c', '#664697'] #orange Purple hex codes\n",
        "sns.set_palette(sns_colors) #set the palette as sns_colors \n",
        "sns.palplot(sns.color_palette(sns_colors)) #plot the color codes"
      ],
      "execution_count": 13,
      "outputs": [
        {
          "output_type": "display_data",
          "data": {
            "image/png": "[encoded data removed]",
            "text/plain": [
              "<Figure size 432x72 with 1 Axes>"
            ]
          },
          "metadata": {
            "tags": [],
            "needs_background": "light"
          }
        },
        {
          "output_type": "display_data",
          "data": {
            "image/png": "[encoded data removed]",
            "text/plain": [
              "<Figure size 144x72 with 1 Axes>"
            ]
          },
          "metadata": {
            "tags": []
          }
        }
      ]
    },
    {
      "cell_type": "code",
      "metadata": {
        "colab": {
          "base_uri": "https://localhost:8080/"
        },
        "id": "A6MT5E8Fy7MZ",
        "outputId": "f68bc845-a61b-445c-a128-6bff5c5ccfd6"
      },
      "source": [
        "uniMathData.columns #columns in the dataframe"
      ],
      "execution_count": 14,
      "outputs": [
        {
          "output_type": "execute_result",
          "data": {
            "text/plain": [
              "Index(['G1', 'G3'], dtype='object')"
            ]
          },
          "metadata": {
            "tags": []
          },
          "execution_count": 14
        }
      ]
    },
    {
      "cell_type": "code",
      "metadata": {
        "colab": {
          "base_uri": "https://localhost:8080/",
          "height": 392
        },
        "id": "PrsTwdHHzBbk",
        "outputId": "97cac778-6108-42fa-c2da-9bd703ddb278"
      },
      "source": [
        "#pairplot for all the values\n",
        "\n",
        "sns.pairplot(uniMathData,\n",
        "             x_vars = ['G1', 'G3'],\n",
        "             y_vars =  ['G1', 'G3'],\n",
        "       diag_kind='kde'\n",
        "             )"
      ],
      "execution_count": 15,
      "outputs": [
        {
          "output_type": "execute_result",
          "data": {
            "text/plain": [
              "<seaborn.axisgrid.PairGrid at 0x7f46358eb510>"
            ]
          },
          "metadata": {
            "tags": []
          },
          "execution_count": 15
        },
        {
          "output_type": "display_data",
          "data": {
            "image/png": "[encoded data removed]",
            "text/plain": [
              "<Figure size 360x360 with 6 Axes>"
            ]
          },
          "metadata": {
            "tags": []
          }
        }
      ]
    },
    {
      "cell_type": "markdown",
      "metadata": {
        "id": "Klm33YcpKZkl"
      },
      "source": [
        "## Data Splits"
      ]
    },
    {
      "cell_type": "code",
      "metadata": {
        "colab": {
          "base_uri": "https://localhost:8080/"
        },
        "id": "UwrSOCKS1NhN",
        "outputId": "cb89175d-09f7-465e-a41d-fc8ce787d1a0"
      },
      "source": [
        "#80-20 train-test percent split\n",
        "\n",
        "trainDataset = uniMathData.sample(frac=0.8, random_state=0) \n",
        "testDataset = uniMathData.drop(trainDataset.index)\n",
        "\n",
        "print(trainDataset.head())\n",
        "print(testDataset.head())"
      ],
      "execution_count": 16,
      "outputs": [
        {
          "output_type": "stream",
          "text": [
            "     G1  G3\n",
            "329  14  14\n",
            "318  11  10\n",
            "317   9   9\n",
            "65   16  15\n",
            "59   15  16\n",
            "    G1  G3\n",
            "9   14  15\n",
            "25   6   8\n",
            "28  11  11\n",
            "31  17  17\n",
            "32  17  16\n"
          ],
          "name": "stdout"
        }
      ]
    },
    {
      "cell_type": "code",
      "metadata": {
        "colab": {
          "base_uri": "https://localhost:8080/"
        },
        "id": "YWO2xRV53wV-",
        "outputId": "1a0cc3bc-c21b-4b6b-9a5e-144fbc647ad8"
      },
      "source": [
        "print(trainDataset.shape)\n",
        "print(testDataset.shape)"
      ],
      "execution_count": 17,
      "outputs": [
        {
          "output_type": "stream",
          "text": [
            "(316, 2)\n",
            "(79, 2)\n"
          ],
          "name": "stdout"
        }
      ]
    },
    {
      "cell_type": "code",
      "metadata": {
        "colab": {
          "base_uri": "https://localhost:8080/"
        },
        "id": "OmDTbvMC32hg",
        "outputId": "b895375e-3e0f-4aa0-d841-33ce2ea6d129"
      },
      "source": [
        "#copy the trainDataset dataframe for getting the features\n",
        "\n",
        "trainFeatures = trainDataset.copy()\n",
        "testFeatures = testDataset.copy()\n",
        "\n",
        "print(trainFeatures.head())\n",
        "print(testFeatures.head())"
      ],
      "execution_count": 18,
      "outputs": [
        {
          "output_type": "stream",
          "text": [
            "     G1  G3\n",
            "329  14  14\n",
            "318  11  10\n",
            "317   9   9\n",
            "65   16  15\n",
            "59   15  16\n",
            "    G1  G3\n",
            "9   14  15\n",
            "25   6   8\n",
            "28  11  11\n",
            "31  17  17\n",
            "32  17  16\n"
          ],
          "name": "stdout"
        }
      ]
    },
    {
      "cell_type": "code",
      "metadata": {
        "colab": {
          "base_uri": "https://localhost:8080/"
        },
        "id": "jSR0_uni4ayh",
        "outputId": "a8403857-ed21-43ad-bfd9-1360cd3c67c9"
      },
      "source": [
        "#removing the G3 column and saving it into the labels variable\n",
        "\n",
        "trainLabels = trainFeatures.pop('G3')\n",
        "testLabels = testFeatures.pop('G3')\n",
        "\n",
        "print(trainLabels.head())\n",
        "print(testLabels.head())"
      ],
      "execution_count": 19,
      "outputs": [
        {
          "output_type": "stream",
          "text": [
            "329    14\n",
            "318    10\n",
            "317     9\n",
            "65     15\n",
            "59     16\n",
            "Name: G3, dtype: int64\n",
            "9     15\n",
            "25     8\n",
            "28    11\n",
            "31    17\n",
            "32    16\n",
            "Name: G3, dtype: int64\n"
          ],
          "name": "stdout"
        }
      ]
    },
    {
      "cell_type": "code",
      "metadata": {
        "colab": {
          "base_uri": "https://localhost:8080/"
        },
        "id": "HnGSqb-q4wk8",
        "outputId": "37599b9d-e708-4950-fac2-920d042463b6"
      },
      "source": [
        "print(trainFeatures.head())\n",
        "print(testFeatures.head())"
      ],
      "execution_count": 20,
      "outputs": [
        {
          "output_type": "stream",
          "text": [
            "     G1\n",
            "329  14\n",
            "318  11\n",
            "317   9\n",
            "65   16\n",
            "59   15\n",
            "    G1\n",
            "9   14\n",
            "25   6\n",
            "28  11\n",
            "31  17\n",
            "32  17\n"
          ],
          "name": "stdout"
        }
      ]
    },
    {
      "cell_type": "code",
      "metadata": {
        "id": "XPTSq34jk4o_"
      },
      "source": [
        "# univariate -> num(features) = 1\n",
        "# multvariate -> num(features) > 1 = 11\n",
        "\n",
        "\n",
        "model = tf.keras.Sequential([\n",
        "                             tf.keras.layers.Dense(1)\n",
        "\n",
        "])"
      ],
      "execution_count": 21,
      "outputs": []
    },
    {
      "cell_type": "code",
      "metadata": {
        "id": "4C4GKBdE6iCE"
      },
      "source": [
        "model.compile(\n",
        "    loss = 'mean_absolute_error', #minimizing the MAE loss\n",
        "    optimizer = tf.keras.optimizers.Adam(0.001), #learning rate specified as 0.001\n",
        "    # optimizer = 'adam', #takes the default learning rate\n",
        "    metrics = ['mae', 'mse'] #meanSquare and meanAbsolute error metrics\n",
        ")"
      ],
      "execution_count": 22,
      "outputs": []
    },
    {
      "cell_type": "code",
      "metadata": {
        "colab": {
          "base_uri": "https://localhost:8080/"
        },
        "id": "d_A7DrhB6zvm",
        "outputId": "ae6a9d41-4765-4dcc-9950-bfdf7c564be4"
      },
      "source": [
        "numEpochs = 200\n",
        "history = model.fit(x = trainFeatures, y = trainLabels, validation_data = (testFeatures, testLabels), epochs = numEpochs)"
      ],
      "execution_count": 25,
      "outputs": [
        {
          "output_type": "stream",
          "text": [
            "Epoch 1/200\n",
            "10/10 [==============================] - 0s 4ms/step - loss: 1.8573 - mae: 1.8573 - mse: 8.4347 - val_loss: 1.6075 - val_mae: 1.6075 - val_mse: 6.3308\n",
            "Epoch 2/200\n",
            "10/10 [==============================] - 0s 4ms/step - loss: 1.8566 - mae: 1.8566 - mse: 8.4289 - val_loss: 1.6084 - val_mae: 1.6084 - val_mse: 6.3347\n",
            "Epoch 3/200\n",
            "10/10 [==============================] - 0s 3ms/step - loss: 1.8566 - mae: 1.8566 - mse: 8.4374 - val_loss: 1.6111 - val_mae: 1.6111 - val_mse: 6.3463\n",
            "Epoch 4/200\n",
            "10/10 [==============================] - 0s 4ms/step - loss: 1.8562 - mae: 1.8562 - mse: 8.4381 - val_loss: 1.6103 - val_mae: 1.6103 - val_mse: 6.3425\n",
            "Epoch 5/200\n",
            "10/10 [==============================] - 0s 4ms/step - loss: 1.8563 - mae: 1.8563 - mse: 8.4414 - val_loss: 1.6114 - val_mae: 1.6114 - val_mse: 6.3469\n",
            "Epoch 6/200\n",
            "10/10 [==============================] - 0s 3ms/step - loss: 1.8561 - mae: 1.8561 - mse: 8.4405 - val_loss: 1.6105 - val_mae: 1.6105 - val_mse: 6.3427\n",
            "Epoch 7/200\n",
            "10/10 [==============================] - 0s 3ms/step - loss: 1.8560 - mae: 1.8560 - mse: 8.4379 - val_loss: 1.6104 - val_mae: 1.6104 - val_mse: 6.3418\n",
            "Epoch 8/200\n",
            "10/10 [==============================] - 0s 4ms/step - loss: 1.8559 - mae: 1.8559 - mse: 8.4373 - val_loss: 1.6106 - val_mae: 1.6106 - val_mse: 6.3424\n",
            "Epoch 9/200\n",
            "10/10 [==============================] - 0s 3ms/step - loss: 1.8561 - mae: 1.8561 - mse: 8.4339 - val_loss: 1.6095 - val_mae: 1.6095 - val_mse: 6.3366\n",
            "Epoch 10/200\n",
            "10/10 [==============================] - 0s 6ms/step - loss: 1.8558 - mae: 1.8558 - mse: 8.4338 - val_loss: 1.6109 - val_mae: 1.6109 - val_mse: 6.3427\n",
            "Epoch 11/200\n",
            "10/10 [==============================] - 0s 3ms/step - loss: 1.8560 - mae: 1.8560 - mse: 8.4348 - val_loss: 1.6103 - val_mae: 1.6103 - val_mse: 6.3398\n",
            "Epoch 12/200\n",
            "10/10 [==============================] - 0s 4ms/step - loss: 1.8558 - mae: 1.8558 - mse: 8.4373 - val_loss: 1.6112 - val_mae: 1.6112 - val_mse: 6.3431\n",
            "Epoch 13/200\n",
            "10/10 [==============================] - 0s 4ms/step - loss: 1.8557 - mae: 1.8557 - mse: 8.4373 - val_loss: 1.6106 - val_mae: 1.6106 - val_mse: 6.3405\n",
            "Epoch 14/200\n",
            "10/10 [==============================] - 0s 3ms/step - loss: 1.8567 - mae: 1.8567 - mse: 8.4306 - val_loss: 1.6075 - val_mae: 1.6075 - val_mse: 6.3257\n",
            "Epoch 15/200\n",
            "10/10 [==============================] - 0s 3ms/step - loss: 1.8558 - mae: 1.8558 - mse: 8.4261 - val_loss: 1.6092 - val_mae: 1.6092 - val_mse: 6.3330\n",
            "Epoch 16/200\n",
            "10/10 [==============================] - 0s 4ms/step - loss: 1.8555 - mae: 1.8555 - mse: 8.4285 - val_loss: 1.6092 - val_mae: 1.6092 - val_mse: 6.3330\n",
            "Epoch 17/200\n",
            "10/10 [==============================] - 0s 4ms/step - loss: 1.8557 - mae: 1.8557 - mse: 8.4363 - val_loss: 1.6121 - val_mae: 1.6121 - val_mse: 6.3448\n",
            "Epoch 18/200\n",
            "10/10 [==============================] - 0s 5ms/step - loss: 1.8553 - mae: 1.8553 - mse: 8.4358 - val_loss: 1.6103 - val_mae: 1.6103 - val_mse: 6.3369\n",
            "Epoch 19/200\n",
            "10/10 [==============================] - 0s 4ms/step - loss: 1.8552 - mae: 1.8552 - mse: 8.4314 - val_loss: 1.6101 - val_mae: 1.6101 - val_mse: 6.3356\n",
            "Epoch 20/200\n",
            "10/10 [==============================] - 0s 4ms/step - loss: 1.8551 - mae: 1.8551 - mse: 8.4326 - val_loss: 1.6105 - val_mae: 1.6105 - val_mse: 6.3372\n",
            "Epoch 21/200\n",
            "10/10 [==============================] - 0s 4ms/step - loss: 1.8552 - mae: 1.8552 - mse: 8.4296 - val_loss: 1.6095 - val_mae: 1.6095 - val_mse: 6.3321\n",
            "Epoch 22/200\n",
            "10/10 [==============================] - 0s 4ms/step - loss: 1.8549 - mae: 1.8549 - mse: 8.4301 - val_loss: 1.6102 - val_mae: 1.6102 - val_mse: 6.3349\n",
            "Epoch 23/200\n",
            "10/10 [==============================] - 0s 4ms/step - loss: 1.8549 - mae: 1.8549 - mse: 8.4309 - val_loss: 1.6098 - val_mae: 1.6098 - val_mse: 6.3328\n",
            "Epoch 24/200\n",
            "10/10 [==============================] - 0s 4ms/step - loss: 1.8549 - mae: 1.8549 - mse: 8.4294 - val_loss: 1.6100 - val_mae: 1.6100 - val_mse: 6.3334\n",
            "Epoch 25/200\n",
            "10/10 [==============================] - 0s 4ms/step - loss: 1.8549 - mae: 1.8549 - mse: 8.4311 - val_loss: 1.6100 - val_mae: 1.6100 - val_mse: 6.3330\n",
            "Epoch 26/200\n",
            "10/10 [==============================] - 0s 4ms/step - loss: 1.8549 - mae: 1.8549 - mse: 8.4265 - val_loss: 1.6085 - val_mae: 1.6085 - val_mse: 6.3256\n",
            "Epoch 27/200\n",
            "10/10 [==============================] - 0s 4ms/step - loss: 1.8547 - mae: 1.8547 - mse: 8.4238 - val_loss: 1.6096 - val_mae: 1.6096 - val_mse: 6.3303\n",
            "Epoch 28/200\n",
            "10/10 [==============================] - 0s 4ms/step - loss: 1.8547 - mae: 1.8547 - mse: 8.4297 - val_loss: 1.6108 - val_mae: 1.6108 - val_mse: 6.3351\n",
            "Epoch 29/200\n",
            "10/10 [==============================] - 0s 4ms/step - loss: 1.8545 - mae: 1.8545 - mse: 8.4293 - val_loss: 1.6095 - val_mae: 1.6095 - val_mse: 6.3291\n",
            "Epoch 30/200\n",
            "10/10 [==============================] - 0s 4ms/step - loss: 1.8546 - mae: 1.8546 - mse: 8.4232 - val_loss: 1.6079 - val_mae: 1.6079 - val_mse: 6.3211\n",
            "Epoch 31/200\n",
            "10/10 [==============================] - 0s 4ms/step - loss: 1.8546 - mae: 1.8546 - mse: 8.4205 - val_loss: 1.6093 - val_mae: 1.6093 - val_mse: 6.3272\n",
            "Epoch 32/200\n",
            "10/10 [==============================] - 0s 4ms/step - loss: 1.8545 - mae: 1.8545 - mse: 8.4257 - val_loss: 1.6093 - val_mae: 1.6093 - val_mse: 6.3268\n",
            "Epoch 33/200\n",
            "10/10 [==============================] - 0s 4ms/step - loss: 1.8545 - mae: 1.8545 - mse: 8.4283 - val_loss: 1.6106 - val_mae: 1.6106 - val_mse: 6.3318\n",
            "Epoch 34/200\n",
            "10/10 [==============================] - 0s 3ms/step - loss: 1.8543 - mae: 1.8543 - mse: 8.4262 - val_loss: 1.6096 - val_mae: 1.6096 - val_mse: 6.3273\n",
            "Epoch 35/200\n",
            "10/10 [==============================] - 0s 4ms/step - loss: 1.8541 - mae: 1.8541 - mse: 8.4239 - val_loss: 1.6094 - val_mae: 1.6094 - val_mse: 6.3258\n",
            "Epoch 36/200\n",
            "10/10 [==============================] - 0s 4ms/step - loss: 1.8540 - mae: 1.8540 - mse: 8.4224 - val_loss: 1.6097 - val_mae: 1.6097 - val_mse: 6.3268\n",
            "Epoch 37/200\n",
            "10/10 [==============================] - 0s 4ms/step - loss: 1.8541 - mae: 1.8541 - mse: 8.4251 - val_loss: 1.6099 - val_mae: 1.6099 - val_mse: 6.3271\n",
            "Epoch 38/200\n",
            "10/10 [==============================] - 0s 4ms/step - loss: 1.8538 - mae: 1.8538 - mse: 8.4228 - val_loss: 1.6091 - val_mae: 1.6091 - val_mse: 6.3236\n",
            "Epoch 39/200\n",
            "10/10 [==============================] - 0s 3ms/step - loss: 1.8539 - mae: 1.8539 - mse: 8.4226 - val_loss: 1.6100 - val_mae: 1.6100 - val_mse: 6.3271\n",
            "Epoch 40/200\n",
            "10/10 [==============================] - 0s 4ms/step - loss: 1.8538 - mae: 1.8538 - mse: 8.4206 - val_loss: 1.6085 - val_mae: 1.6085 - val_mse: 6.3199\n",
            "Epoch 41/200\n",
            "10/10 [==============================] - 0s 4ms/step - loss: 1.8539 - mae: 1.8539 - mse: 8.4171 - val_loss: 1.6091 - val_mae: 1.6091 - val_mse: 6.3224\n",
            "Epoch 42/200\n",
            "10/10 [==============================] - 0s 3ms/step - loss: 1.8536 - mae: 1.8536 - mse: 8.4209 - val_loss: 1.6089 - val_mae: 1.6089 - val_mse: 6.3210\n",
            "Epoch 43/200\n",
            "10/10 [==============================] - 0s 4ms/step - loss: 1.8536 - mae: 1.8536 - mse: 8.4193 - val_loss: 1.6087 - val_mae: 1.6087 - val_mse: 6.3195\n",
            "Epoch 44/200\n",
            "10/10 [==============================] - 0s 4ms/step - loss: 1.8536 - mae: 1.8536 - mse: 8.4195 - val_loss: 1.6087 - val_mae: 1.6087 - val_mse: 6.3190\n",
            "Epoch 45/200\n",
            "10/10 [==============================] - 0s 4ms/step - loss: 1.8540 - mae: 1.8540 - mse: 8.4240 - val_loss: 1.6099 - val_mae: 1.6099 - val_mse: 6.3237\n",
            "Epoch 46/200\n",
            "10/10 [==============================] - 0s 4ms/step - loss: 1.8536 - mae: 1.8536 - mse: 8.4165 - val_loss: 1.6064 - val_mae: 1.6064 - val_mse: 6.3075\n",
            "Epoch 47/200\n",
            "10/10 [==============================] - 0s 5ms/step - loss: 1.8534 - mae: 1.8534 - mse: 8.4079 - val_loss: 1.6068 - val_mae: 1.6068 - val_mse: 6.3091\n",
            "Epoch 48/200\n",
            "10/10 [==============================] - 0s 4ms/step - loss: 1.8543 - mae: 1.8543 - mse: 8.4202 - val_loss: 1.6101 - val_mae: 1.6101 - val_mse: 6.3232\n",
            "Epoch 49/200\n",
            "10/10 [==============================] - 0s 4ms/step - loss: 1.8532 - mae: 1.8532 - mse: 8.4176 - val_loss: 1.6085 - val_mae: 1.6085 - val_mse: 6.3158\n",
            "Epoch 50/200\n",
            "10/10 [==============================] - 0s 4ms/step - loss: 1.8530 - mae: 1.8530 - mse: 8.4140 - val_loss: 1.6083 - val_mae: 1.6083 - val_mse: 6.3146\n",
            "Epoch 51/200\n",
            "10/10 [==============================] - 0s 4ms/step - loss: 1.8532 - mae: 1.8532 - mse: 8.4174 - val_loss: 1.6100 - val_mae: 1.6100 - val_mse: 6.3215\n",
            "Epoch 52/200\n",
            "10/10 [==============================] - 0s 3ms/step - loss: 1.8528 - mae: 1.8528 - mse: 8.4157 - val_loss: 1.6081 - val_mae: 1.6081 - val_mse: 6.3128\n",
            "Epoch 53/200\n",
            "10/10 [==============================] - 0s 4ms/step - loss: 1.8528 - mae: 1.8528 - mse: 8.4107 - val_loss: 1.6076 - val_mae: 1.6076 - val_mse: 6.3100\n",
            "Epoch 54/200\n",
            "10/10 [==============================] - 0s 6ms/step - loss: 1.8530 - mae: 1.8530 - mse: 8.4146 - val_loss: 1.6097 - val_mae: 1.6097 - val_mse: 6.3191\n",
            "Epoch 55/200\n",
            "10/10 [==============================] - 0s 4ms/step - loss: 1.8527 - mae: 1.8527 - mse: 8.4150 - val_loss: 1.6080 - val_mae: 1.6080 - val_mse: 6.3112\n",
            "Epoch 56/200\n",
            "10/10 [==============================] - 0s 4ms/step - loss: 1.8528 - mae: 1.8528 - mse: 8.4123 - val_loss: 1.6084 - val_mae: 1.6084 - val_mse: 6.3127\n",
            "Epoch 57/200\n",
            "10/10 [==============================] - 0s 4ms/step - loss: 1.8525 - mae: 1.8525 - mse: 8.4111 - val_loss: 1.6085 - val_mae: 1.6085 - val_mse: 6.3125\n",
            "Epoch 58/200\n",
            "10/10 [==============================] - 0s 4ms/step - loss: 1.8525 - mae: 1.8525 - mse: 8.4132 - val_loss: 1.6080 - val_mae: 1.6080 - val_mse: 6.3099\n",
            "Epoch 59/200\n",
            "10/10 [==============================] - 0s 4ms/step - loss: 1.8525 - mae: 1.8525 - mse: 8.4104 - val_loss: 1.6084 - val_mae: 1.6084 - val_mse: 6.3113\n",
            "Epoch 60/200\n",
            "10/10 [==============================] - 0s 5ms/step - loss: 1.8522 - mae: 1.8522 - mse: 8.4103 - val_loss: 1.6079 - val_mae: 1.6079 - val_mse: 6.3084\n",
            "Epoch 61/200\n",
            "10/10 [==============================] - 0s 5ms/step - loss: 1.8522 - mae: 1.8522 - mse: 8.4097 - val_loss: 1.6082 - val_mae: 1.6082 - val_mse: 6.3096\n",
            "Epoch 62/200\n",
            "10/10 [==============================] - 0s 6ms/step - loss: 1.8521 - mae: 1.8521 - mse: 8.4076 - val_loss: 1.6071 - val_mae: 1.6071 - val_mse: 6.3040\n",
            "Epoch 63/200\n",
            "10/10 [==============================] - 0s 4ms/step - loss: 1.8520 - mae: 1.8520 - mse: 8.4070 - val_loss: 1.6084 - val_mae: 1.6084 - val_mse: 6.3095\n",
            "Epoch 64/200\n",
            "10/10 [==============================] - 0s 4ms/step - loss: 1.8525 - mae: 1.8525 - mse: 8.4149 - val_loss: 1.6097 - val_mae: 1.6097 - val_mse: 6.3146\n",
            "Epoch 65/200\n",
            "10/10 [==============================] - 0s 4ms/step - loss: 1.8519 - mae: 1.8519 - mse: 8.4082 - val_loss: 1.6066 - val_mae: 1.6066 - val_mse: 6.3004\n",
            "Epoch 66/200\n",
            "10/10 [==============================] - 0s 4ms/step - loss: 1.8521 - mae: 1.8521 - mse: 8.4002 - val_loss: 1.6060 - val_mae: 1.6060 - val_mse: 6.2970\n",
            "Epoch 67/200\n",
            "10/10 [==============================] - 0s 4ms/step - loss: 1.8517 - mae: 1.8517 - mse: 8.4038 - val_loss: 1.6081 - val_mae: 1.6081 - val_mse: 6.3063\n",
            "Epoch 68/200\n",
            "10/10 [==============================] - 0s 4ms/step - loss: 1.8523 - mae: 1.8523 - mse: 8.4117 - val_loss: 1.6103 - val_mae: 1.6103 - val_mse: 6.3149\n",
            "Epoch 69/200\n",
            "10/10 [==============================] - 0s 6ms/step - loss: 1.8520 - mae: 1.8520 - mse: 8.4145 - val_loss: 1.6093 - val_mae: 1.6093 - val_mse: 6.3103\n",
            "Epoch 70/200\n",
            "10/10 [==============================] - 0s 5ms/step - loss: 1.8523 - mae: 1.8523 - mse: 8.4024 - val_loss: 1.6041 - val_mae: 1.6041 - val_mse: 6.2869\n",
            "Epoch 71/200\n",
            "10/10 [==============================] - 0s 5ms/step - loss: 1.8519 - mae: 1.8519 - mse: 8.3935 - val_loss: 1.6058 - val_mae: 1.6058 - val_mse: 6.2940\n",
            "Epoch 72/200\n",
            "10/10 [==============================] - 0s 4ms/step - loss: 1.8516 - mae: 1.8516 - mse: 8.3965 - val_loss: 1.6059 - val_mae: 1.6059 - val_mse: 6.2939\n",
            "Epoch 73/200\n",
            "10/10 [==============================] - 0s 4ms/step - loss: 1.8516 - mae: 1.8516 - mse: 8.4057 - val_loss: 1.6085 - val_mae: 1.6085 - val_mse: 6.3053\n",
            "Epoch 74/200\n",
            "10/10 [==============================] - 0s 5ms/step - loss: 1.8510 - mae: 1.8510 - mse: 8.4039 - val_loss: 1.6070 - val_mae: 1.6070 - val_mse: 6.2981\n",
            "Epoch 75/200\n",
            "10/10 [==============================] - 0s 4ms/step - loss: 1.8512 - mae: 1.8512 - mse: 8.3976 - val_loss: 1.6057 - val_mae: 1.6057 - val_mse: 6.2917\n",
            "Epoch 76/200\n",
            "10/10 [==============================] - 0s 4ms/step - loss: 1.8511 - mae: 1.8511 - mse: 8.3955 - val_loss: 1.6063 - val_mae: 1.6063 - val_mse: 6.2941\n",
            "Epoch 77/200\n",
            "10/10 [==============================] - 0s 4ms/step - loss: 1.8511 - mae: 1.8511 - mse: 8.3962 - val_loss: 1.6065 - val_mae: 1.6065 - val_mse: 6.2947\n",
            "Epoch 78/200\n",
            "10/10 [==============================] - 0s 5ms/step - loss: 1.8512 - mae: 1.8512 - mse: 8.4055 - val_loss: 1.6103 - val_mae: 1.6103 - val_mse: 6.3105\n",
            "Epoch 79/200\n",
            "10/10 [==============================] - 0s 4ms/step - loss: 1.8514 - mae: 1.8514 - mse: 8.4063 - val_loss: 1.6069 - val_mae: 1.6069 - val_mse: 6.2956\n",
            "Epoch 80/200\n",
            "10/10 [==============================] - 0s 7ms/step - loss: 1.8510 - mae: 1.8510 - mse: 8.3983 - val_loss: 1.6075 - val_mae: 1.6075 - val_mse: 6.2978\n",
            "Epoch 81/200\n",
            "10/10 [==============================] - 0s 3ms/step - loss: 1.8505 - mae: 1.8505 - mse: 8.3986 - val_loss: 1.6071 - val_mae: 1.6071 - val_mse: 6.2957\n",
            "Epoch 82/200\n",
            "10/10 [==============================] - 0s 4ms/step - loss: 1.8507 - mae: 1.8507 - mse: 8.3964 - val_loss: 1.6064 - val_mae: 1.6064 - val_mse: 6.2919\n",
            "Epoch 83/200\n",
            "10/10 [==============================] - 0s 4ms/step - loss: 1.8508 - mae: 1.8508 - mse: 8.3995 - val_loss: 1.6070 - val_mae: 1.6070 - val_mse: 6.2944\n",
            "Epoch 84/200\n",
            "10/10 [==============================] - 0s 4ms/step - loss: 1.8505 - mae: 1.8505 - mse: 8.3970 - val_loss: 1.6073 - val_mae: 1.6073 - val_mse: 6.2949\n",
            "Epoch 85/200\n",
            "10/10 [==============================] - 0s 4ms/step - loss: 1.8501 - mae: 1.8501 - mse: 8.3958 - val_loss: 1.6062 - val_mae: 1.6062 - val_mse: 6.2897\n",
            "Epoch 86/200\n",
            "10/10 [==============================] - 0s 5ms/step - loss: 1.8510 - mae: 1.8510 - mse: 8.3895 - val_loss: 1.6035 - val_mae: 1.6035 - val_mse: 6.2767\n",
            "Epoch 87/200\n",
            "10/10 [==============================] - 0s 4ms/step - loss: 1.8504 - mae: 1.8504 - mse: 8.3854 - val_loss: 1.6062 - val_mae: 1.6062 - val_mse: 6.2885\n",
            "Epoch 88/200\n",
            "10/10 [==============================] - 0s 4ms/step - loss: 1.8505 - mae: 1.8505 - mse: 8.3978 - val_loss: 1.6075 - val_mae: 1.6075 - val_mse: 6.2939\n",
            "Epoch 89/200\n",
            "10/10 [==============================] - 0s 4ms/step - loss: 1.8498 - mae: 1.8498 - mse: 8.3944 - val_loss: 1.6056 - val_mae: 1.6056 - val_mse: 6.2849\n",
            "Epoch 90/200\n",
            "10/10 [==============================] - 0s 6ms/step - loss: 1.8501 - mae: 1.8501 - mse: 8.3871 - val_loss: 1.6045 - val_mae: 1.6045 - val_mse: 6.2796\n",
            "Epoch 91/200\n",
            "10/10 [==============================] - 0s 4ms/step - loss: 1.8502 - mae: 1.8502 - mse: 8.3930 - val_loss: 1.6076 - val_mae: 1.6076 - val_mse: 6.2928\n",
            "Epoch 92/200\n",
            "10/10 [==============================] - 0s 4ms/step - loss: 1.8500 - mae: 1.8500 - mse: 8.3918 - val_loss: 1.6052 - val_mae: 1.6052 - val_mse: 6.2820\n",
            "Epoch 93/200\n",
            "10/10 [==============================] - 0s 4ms/step - loss: 1.8496 - mae: 1.8496 - mse: 8.3896 - val_loss: 1.6070 - val_mae: 1.6070 - val_mse: 6.2896\n",
            "Epoch 94/200\n",
            "10/10 [==============================] - 0s 5ms/step - loss: 1.8496 - mae: 1.8496 - mse: 8.3916 - val_loss: 1.6067 - val_mae: 1.6067 - val_mse: 6.2876\n",
            "Epoch 95/200\n",
            "10/10 [==============================] - 0s 5ms/step - loss: 1.8495 - mae: 1.8495 - mse: 8.3906 - val_loss: 1.6056 - val_mae: 1.6056 - val_mse: 6.2823\n",
            "Epoch 96/200\n",
            "10/10 [==============================] - 0s 4ms/step - loss: 1.8497 - mae: 1.8497 - mse: 8.3904 - val_loss: 1.6058 - val_mae: 1.6058 - val_mse: 6.2825\n",
            "Epoch 97/200\n",
            "10/10 [==============================] - 0s 4ms/step - loss: 1.8492 - mae: 1.8492 - mse: 8.3892 - val_loss: 1.6065 - val_mae: 1.6065 - val_mse: 6.2853\n",
            "Epoch 98/200\n",
            "10/10 [==============================] - 0s 4ms/step - loss: 1.8492 - mae: 1.8492 - mse: 8.3877 - val_loss: 1.6062 - val_mae: 1.6062 - val_mse: 6.2836\n",
            "Epoch 99/200\n",
            "10/10 [==============================] - 0s 3ms/step - loss: 1.8492 - mae: 1.8492 - mse: 8.3863 - val_loss: 1.6060 - val_mae: 1.6060 - val_mse: 6.2822\n",
            "Epoch 100/200\n",
            "10/10 [==============================] - 0s 4ms/step - loss: 1.8491 - mae: 1.8491 - mse: 8.3887 - val_loss: 1.6058 - val_mae: 1.6058 - val_mse: 6.2810\n",
            "Epoch 101/200\n",
            "10/10 [==============================] - 0s 4ms/step - loss: 1.8495 - mae: 1.8495 - mse: 8.3938 - val_loss: 1.6085 - val_mae: 1.6085 - val_mse: 6.2918\n",
            "Epoch 102/200\n",
            "10/10 [==============================] - 0s 4ms/step - loss: 1.8491 - mae: 1.8491 - mse: 8.3889 - val_loss: 1.6050 - val_mae: 1.6050 - val_mse: 6.2762\n",
            "Epoch 103/200\n",
            "10/10 [==============================] - 0s 4ms/step - loss: 1.8488 - mae: 1.8488 - mse: 8.3849 - val_loss: 1.6066 - val_mae: 1.6066 - val_mse: 6.2827\n",
            "Epoch 104/200\n",
            "10/10 [==============================] - 0s 7ms/step - loss: 1.8487 - mae: 1.8487 - mse: 8.3862 - val_loss: 1.6055 - val_mae: 1.6055 - val_mse: 6.2776\n",
            "Epoch 105/200\n",
            "10/10 [==============================] - 0s 5ms/step - loss: 1.8487 - mae: 1.8487 - mse: 8.3823 - val_loss: 1.6057 - val_mae: 1.6057 - val_mse: 6.2781\n",
            "Epoch 106/200\n",
            "10/10 [==============================] - 0s 4ms/step - loss: 1.8487 - mae: 1.8487 - mse: 8.3834 - val_loss: 1.6043 - val_mae: 1.6043 - val_mse: 6.2711\n",
            "Epoch 107/200\n",
            "10/10 [==============================] - 0s 4ms/step - loss: 1.8485 - mae: 1.8485 - mse: 8.3812 - val_loss: 1.6062 - val_mae: 1.6062 - val_mse: 6.2793\n",
            "Epoch 108/200\n",
            "10/10 [==============================] - 0s 5ms/step - loss: 1.8483 - mae: 1.8483 - mse: 8.3844 - val_loss: 1.6055 - val_mae: 1.6055 - val_mse: 6.2756\n",
            "Epoch 109/200\n",
            "10/10 [==============================] - 0s 4ms/step - loss: 1.8499 - mae: 1.8499 - mse: 8.3781 - val_loss: 1.6016 - val_mae: 1.6016 - val_mse: 6.2575\n",
            "Epoch 110/200\n",
            "10/10 [==============================] - 0s 6ms/step - loss: 1.8485 - mae: 1.8485 - mse: 8.3674 - val_loss: 1.6031 - val_mae: 1.6031 - val_mse: 6.2638\n",
            "Epoch 111/200\n",
            "10/10 [==============================] - 0s 4ms/step - loss: 1.8481 - mae: 1.8481 - mse: 8.3765 - val_loss: 1.6068 - val_mae: 1.6068 - val_mse: 6.2799\n",
            "Epoch 112/200\n",
            "10/10 [==============================] - 0s 3ms/step - loss: 1.8484 - mae: 1.8484 - mse: 8.3849 - val_loss: 1.6049 - val_mae: 1.6049 - val_mse: 6.2713\n",
            "Epoch 113/200\n",
            "10/10 [==============================] - 0s 4ms/step - loss: 1.8483 - mae: 1.8483 - mse: 8.3796 - val_loss: 1.6065 - val_mae: 1.6065 - val_mse: 6.2774\n",
            "Epoch 114/200\n",
            "10/10 [==============================] - 0s 5ms/step - loss: 1.8478 - mae: 1.8478 - mse: 8.3780 - val_loss: 1.6043 - val_mae: 1.6043 - val_mse: 6.2674\n",
            "Epoch 115/200\n",
            "10/10 [==============================] - 0s 5ms/step - loss: 1.8477 - mae: 1.8477 - mse: 8.3756 - val_loss: 1.6052 - val_mae: 1.6052 - val_mse: 6.2710\n",
            "Epoch 116/200\n",
            "10/10 [==============================] - 0s 4ms/step - loss: 1.8483 - mae: 1.8483 - mse: 8.3859 - val_loss: 1.6078 - val_mae: 1.6078 - val_mse: 6.2816\n",
            "Epoch 117/200\n",
            "10/10 [==============================] - 0s 4ms/step - loss: 1.8477 - mae: 1.8477 - mse: 8.3804 - val_loss: 1.6047 - val_mae: 1.6047 - val_mse: 6.2682\n",
            "Epoch 118/200\n",
            "10/10 [==============================] - 0s 4ms/step - loss: 1.8477 - mae: 1.8477 - mse: 8.3737 - val_loss: 1.6043 - val_mae: 1.6043 - val_mse: 6.2657\n",
            "Epoch 119/200\n",
            "10/10 [==============================] - 0s 4ms/step - loss: 1.8475 - mae: 1.8475 - mse: 8.3739 - val_loss: 1.6040 - val_mae: 1.6040 - val_mse: 6.2639\n",
            "Epoch 120/200\n",
            "10/10 [==============================] - 0s 4ms/step - loss: 1.8480 - mae: 1.8480 - mse: 8.3776 - val_loss: 1.6043 - val_mae: 1.6043 - val_mse: 6.2645\n",
            "Epoch 121/200\n",
            "10/10 [==============================] - 0s 4ms/step - loss: 1.8473 - mae: 1.8473 - mse: 8.3717 - val_loss: 1.6051 - val_mae: 1.6051 - val_mse: 6.2679\n",
            "Epoch 122/200\n",
            "10/10 [==============================] - 0s 4ms/step - loss: 1.8472 - mae: 1.8472 - mse: 8.3765 - val_loss: 1.6042 - val_mae: 1.6042 - val_mse: 6.2632\n",
            "Epoch 123/200\n",
            "10/10 [==============================] - 0s 4ms/step - loss: 1.8477 - mae: 1.8477 - mse: 8.3680 - val_loss: 1.6030 - val_mae: 1.6030 - val_mse: 6.2570\n",
            "Epoch 124/200\n",
            "10/10 [==============================] - 0s 5ms/step - loss: 1.8470 - mae: 1.8470 - mse: 8.3713 - val_loss: 1.6060 - val_mae: 1.6060 - val_mse: 6.2700\n",
            "Epoch 125/200\n",
            "10/10 [==============================] - 0s 4ms/step - loss: 1.8473 - mae: 1.8473 - mse: 8.3813 - val_loss: 1.6073 - val_mae: 1.6073 - val_mse: 6.2750\n",
            "Epoch 126/200\n",
            "10/10 [==============================] - 0s 4ms/step - loss: 1.8467 - mae: 1.8467 - mse: 8.3764 - val_loss: 1.6043 - val_mae: 1.6043 - val_mse: 6.2620\n",
            "Epoch 127/200\n",
            "10/10 [==============================] - 0s 4ms/step - loss: 1.8466 - mae: 1.8466 - mse: 8.3682 - val_loss: 1.6033 - val_mae: 1.6033 - val_mse: 6.2569\n",
            "Epoch 128/200\n",
            "10/10 [==============================] - 0s 4ms/step - loss: 1.8468 - mae: 1.8468 - mse: 8.3678 - val_loss: 1.6034 - val_mae: 1.6034 - val_mse: 6.2569\n",
            "Epoch 129/200\n",
            "10/10 [==============================] - 0s 4ms/step - loss: 1.8464 - mae: 1.8464 - mse: 8.3689 - val_loss: 1.6050 - val_mae: 1.6050 - val_mse: 6.2632\n",
            "Epoch 130/200\n",
            "10/10 [==============================] - 0s 4ms/step - loss: 1.8474 - mae: 1.8474 - mse: 8.3676 - val_loss: 1.6017 - val_mae: 1.6017 - val_mse: 6.2478\n",
            "Epoch 131/200\n",
            "10/10 [==============================] - 0s 4ms/step - loss: 1.8463 - mae: 1.8463 - mse: 8.3608 - val_loss: 1.6040 - val_mae: 1.6040 - val_mse: 6.2581\n",
            "Epoch 132/200\n",
            "10/10 [==============================] - 0s 4ms/step - loss: 1.8466 - mae: 1.8466 - mse: 8.3747 - val_loss: 1.6059 - val_mae: 1.6059 - val_mse: 6.2659\n",
            "Epoch 133/200\n",
            "10/10 [==============================] - 0s 5ms/step - loss: 1.8466 - mae: 1.8466 - mse: 8.3679 - val_loss: 1.6027 - val_mae: 1.6027 - val_mse: 6.2509\n",
            "Epoch 134/200\n",
            "10/10 [==============================] - 0s 4ms/step - loss: 1.8463 - mae: 1.8463 - mse: 8.3681 - val_loss: 1.6058 - val_mae: 1.6058 - val_mse: 6.2642\n",
            "Epoch 135/200\n",
            "10/10 [==============================] - 0s 4ms/step - loss: 1.8460 - mae: 1.8460 - mse: 8.3686 - val_loss: 1.6038 - val_mae: 1.6038 - val_mse: 6.2553\n",
            "Epoch 136/200\n",
            "10/10 [==============================] - 0s 5ms/step - loss: 1.8459 - mae: 1.8459 - mse: 8.3661 - val_loss: 1.6026 - val_mae: 1.6026 - val_mse: 6.2491\n",
            "Epoch 137/200\n",
            "10/10 [==============================] - 0s 4ms/step - loss: 1.8458 - mae: 1.8458 - mse: 8.3613 - val_loss: 1.6031 - val_mae: 1.6031 - val_mse: 6.2512\n",
            "Epoch 138/200\n",
            "10/10 [==============================] - 0s 5ms/step - loss: 1.8457 - mae: 1.8457 - mse: 8.3601 - val_loss: 1.6032 - val_mae: 1.6032 - val_mse: 6.2513\n",
            "Epoch 139/200\n",
            "10/10 [==============================] - 0s 4ms/step - loss: 1.8459 - mae: 1.8459 - mse: 8.3666 - val_loss: 1.6047 - val_mae: 1.6047 - val_mse: 6.2571\n",
            "Epoch 140/200\n",
            "10/10 [==============================] - 0s 4ms/step - loss: 1.8458 - mae: 1.8458 - mse: 8.3625 - val_loss: 1.6024 - val_mae: 1.6024 - val_mse: 6.2463\n",
            "Epoch 141/200\n",
            "10/10 [==============================] - 0s 4ms/step - loss: 1.8455 - mae: 1.8455 - mse: 8.3603 - val_loss: 1.6043 - val_mae: 1.6043 - val_mse: 6.2545\n",
            "Epoch 142/200\n",
            "10/10 [==============================] - 0s 5ms/step - loss: 1.8453 - mae: 1.8453 - mse: 8.3623 - val_loss: 1.6027 - val_mae: 1.6027 - val_mse: 6.2471\n",
            "Epoch 143/200\n",
            "10/10 [==============================] - 0s 4ms/step - loss: 1.8453 - mae: 1.8453 - mse: 8.3603 - val_loss: 1.6038 - val_mae: 1.6038 - val_mse: 6.2515\n",
            "Epoch 144/200\n",
            "10/10 [==============================] - 0s 4ms/step - loss: 1.8454 - mae: 1.8454 - mse: 8.3594 - val_loss: 1.6019 - val_mae: 1.6019 - val_mse: 6.2424\n",
            "Epoch 145/200\n",
            "10/10 [==============================] - 0s 4ms/step - loss: 1.8450 - mae: 1.8450 - mse: 8.3580 - val_loss: 1.6040 - val_mae: 1.6040 - val_mse: 6.2513\n",
            "Epoch 146/200\n",
            "10/10 [==============================] - 0s 4ms/step - loss: 1.8453 - mae: 1.8453 - mse: 8.3649 - val_loss: 1.6058 - val_mae: 1.6058 - val_mse: 6.2583\n",
            "Epoch 147/200\n",
            "10/10 [==============================] - 0s 4ms/step - loss: 1.8449 - mae: 1.8449 - mse: 8.3631 - val_loss: 1.6027 - val_mae: 1.6027 - val_mse: 6.2446\n",
            "Epoch 148/200\n",
            "10/10 [==============================] - 0s 5ms/step - loss: 1.8448 - mae: 1.8448 - mse: 8.3580 - val_loss: 1.6030 - val_mae: 1.6030 - val_mse: 6.2457\n",
            "Epoch 149/200\n",
            "10/10 [==============================] - 0s 4ms/step - loss: 1.8446 - mae: 1.8446 - mse: 8.3560 - val_loss: 1.6034 - val_mae: 1.6034 - val_mse: 6.2466\n",
            "Epoch 150/200\n",
            "10/10 [==============================] - 0s 4ms/step - loss: 1.8446 - mae: 1.8446 - mse: 8.3598 - val_loss: 1.6038 - val_mae: 1.6038 - val_mse: 6.2480\n",
            "Epoch 151/200\n",
            "10/10 [==============================] - 0s 4ms/step - loss: 1.8453 - mae: 1.8453 - mse: 8.3628 - val_loss: 1.6037 - val_mae: 1.6037 - val_mse: 6.2469\n",
            "Epoch 152/200\n",
            "10/10 [==============================] - 0s 4ms/step - loss: 1.8454 - mae: 1.8454 - mse: 8.3467 - val_loss: 1.5995 - val_mae: 1.5995 - val_mse: 6.2271\n",
            "Epoch 153/200\n",
            "10/10 [==============================] - 0s 4ms/step - loss: 1.8445 - mae: 1.8445 - mse: 8.3428 - val_loss: 1.6003 - val_mae: 1.6003 - val_mse: 6.2307\n",
            "Epoch 154/200\n",
            "10/10 [==============================] - 0s 6ms/step - loss: 1.8442 - mae: 1.8442 - mse: 8.3505 - val_loss: 1.6035 - val_mae: 1.6035 - val_mse: 6.2448\n",
            "Epoch 155/200\n",
            "10/10 [==============================] - 0s 4ms/step - loss: 1.8444 - mae: 1.8444 - mse: 8.3600 - val_loss: 1.6037 - val_mae: 1.6037 - val_mse: 6.2452\n",
            "Epoch 156/200\n",
            "10/10 [==============================] - 0s 4ms/step - loss: 1.8439 - mae: 1.8439 - mse: 8.3539 - val_loss: 1.6024 - val_mae: 1.6024 - val_mse: 6.2388\n",
            "Epoch 157/200\n",
            "10/10 [==============================] - 0s 6ms/step - loss: 1.8442 - mae: 1.8442 - mse: 8.3472 - val_loss: 1.6005 - val_mae: 1.6005 - val_mse: 6.2296\n",
            "Epoch 158/200\n",
            "10/10 [==============================] - 0s 4ms/step - loss: 1.8438 - mae: 1.8438 - mse: 8.3471 - val_loss: 1.6022 - val_mae: 1.6022 - val_mse: 6.2370\n",
            "Epoch 159/200\n",
            "10/10 [==============================] - 0s 4ms/step - loss: 1.8438 - mae: 1.8438 - mse: 8.3536 - val_loss: 1.6034 - val_mae: 1.6034 - val_mse: 6.2418\n",
            "Epoch 160/200\n",
            "10/10 [==============================] - 0s 5ms/step - loss: 1.8436 - mae: 1.8436 - mse: 8.3521 - val_loss: 1.6016 - val_mae: 1.6016 - val_mse: 6.2331\n",
            "Epoch 161/200\n",
            "10/10 [==============================] - 0s 5ms/step - loss: 1.8438 - mae: 1.8438 - mse: 8.3430 - val_loss: 1.5999 - val_mae: 1.5999 - val_mse: 6.2251\n",
            "Epoch 162/200\n",
            "10/10 [==============================] - 0s 5ms/step - loss: 1.8436 - mae: 1.8436 - mse: 8.3473 - val_loss: 1.6025 - val_mae: 1.6025 - val_mse: 6.2363\n",
            "Epoch 163/200\n",
            "10/10 [==============================] - 0s 4ms/step - loss: 1.8434 - mae: 1.8434 - mse: 8.3531 - val_loss: 1.6036 - val_mae: 1.6036 - val_mse: 6.2404\n",
            "Epoch 164/200\n",
            "10/10 [==============================] - 0s 4ms/step - loss: 1.8435 - mae: 1.8435 - mse: 8.3526 - val_loss: 1.6014 - val_mae: 1.6014 - val_mse: 6.2306\n",
            "Epoch 165/200\n",
            "10/10 [==============================] - 0s 4ms/step - loss: 1.8432 - mae: 1.8432 - mse: 8.3465 - val_loss: 1.6014 - val_mae: 1.6014 - val_mse: 6.2300\n",
            "Epoch 166/200\n",
            "10/10 [==============================] - 0s 4ms/step - loss: 1.8438 - mae: 1.8438 - mse: 8.3411 - val_loss: 1.5995 - val_mae: 1.5995 - val_mse: 6.2208\n",
            "Epoch 167/200\n",
            "10/10 [==============================] - 0s 4ms/step - loss: 1.8430 - mae: 1.8430 - mse: 8.3423 - val_loss: 1.6032 - val_mae: 1.6032 - val_mse: 6.2369\n",
            "Epoch 168/200\n",
            "10/10 [==============================] - 0s 4ms/step - loss: 1.8429 - mae: 1.8429 - mse: 8.3472 - val_loss: 1.6018 - val_mae: 1.6018 - val_mse: 6.2305\n",
            "Epoch 169/200\n",
            "10/10 [==============================] - 0s 5ms/step - loss: 1.8426 - mae: 1.8426 - mse: 8.3441 - val_loss: 1.6020 - val_mae: 1.6020 - val_mse: 6.2310\n",
            "Epoch 170/200\n",
            "10/10 [==============================] - 0s 5ms/step - loss: 1.8427 - mae: 1.8427 - mse: 8.3441 - val_loss: 1.6018 - val_mae: 1.6018 - val_mse: 6.2294\n",
            "Epoch 171/200\n",
            "10/10 [==============================] - 0s 5ms/step - loss: 1.8432 - mae: 1.8432 - mse: 8.3507 - val_loss: 1.6041 - val_mae: 1.6041 - val_mse: 6.2388\n",
            "Epoch 172/200\n",
            "10/10 [==============================] - 0s 4ms/step - loss: 1.8423 - mae: 1.8423 - mse: 8.3459 - val_loss: 1.6014 - val_mae: 1.6014 - val_mse: 6.2267\n",
            "Epoch 173/200\n",
            "10/10 [==============================] - 0s 4ms/step - loss: 1.8423 - mae: 1.8423 - mse: 8.3394 - val_loss: 1.6004 - val_mae: 1.6004 - val_mse: 6.2215\n",
            "Epoch 174/200\n",
            "10/10 [==============================] - 0s 4ms/step - loss: 1.8428 - mae: 1.8428 - mse: 8.3359 - val_loss: 1.5995 - val_mae: 1.5995 - val_mse: 6.2170\n",
            "Epoch 175/200\n",
            "10/10 [==============================] - 0s 4ms/step - loss: 1.8423 - mae: 1.8423 - mse: 8.3398 - val_loss: 1.6029 - val_mae: 1.6029 - val_mse: 6.2314\n",
            "Epoch 176/200\n",
            "10/10 [==============================] - 0s 4ms/step - loss: 1.8426 - mae: 1.8426 - mse: 8.3430 - val_loss: 1.6008 - val_mae: 1.6008 - val_mse: 6.2222\n",
            "Epoch 177/200\n",
            "10/10 [==============================] - 0s 4ms/step - loss: 1.8420 - mae: 1.8420 - mse: 8.3389 - val_loss: 1.6019 - val_mae: 1.6019 - val_mse: 6.2262\n",
            "Epoch 178/200\n",
            "10/10 [==============================] - 0s 4ms/step - loss: 1.8419 - mae: 1.8419 - mse: 8.3424 - val_loss: 1.6018 - val_mae: 1.6018 - val_mse: 6.2253\n",
            "Epoch 179/200\n",
            "10/10 [==============================] - 0s 4ms/step - loss: 1.8417 - mae: 1.8417 - mse: 8.3381 - val_loss: 1.6011 - val_mae: 1.6011 - val_mse: 6.2217\n",
            "Epoch 180/200\n",
            "10/10 [==============================] - 0s 4ms/step - loss: 1.8417 - mae: 1.8417 - mse: 8.3378 - val_loss: 1.6008 - val_mae: 1.6008 - val_mse: 6.2199\n",
            "Epoch 181/200\n",
            "10/10 [==============================] - 0s 5ms/step - loss: 1.8417 - mae: 1.8417 - mse: 8.3357 - val_loss: 1.6010 - val_mae: 1.6010 - val_mse: 6.2206\n",
            "Epoch 182/200\n",
            "10/10 [==============================] - 0s 4ms/step - loss: 1.8416 - mae: 1.8416 - mse: 8.3408 - val_loss: 1.6027 - val_mae: 1.6027 - val_mse: 6.2271\n",
            "Epoch 183/200\n",
            "10/10 [==============================] - 0s 4ms/step - loss: 1.8417 - mae: 1.8417 - mse: 8.3352 - val_loss: 1.5989 - val_mae: 1.5989 - val_mse: 6.2096\n",
            "Epoch 184/200\n",
            "10/10 [==============================] - 0s 4ms/step - loss: 1.8416 - mae: 1.8416 - mse: 8.3350 - val_loss: 1.6006 - val_mae: 1.6006 - val_mse: 6.2174\n",
            "Epoch 185/200\n",
            "10/10 [==============================] - 0s 4ms/step - loss: 1.8411 - mae: 1.8411 - mse: 8.3345 - val_loss: 1.6010 - val_mae: 1.6010 - val_mse: 6.2186\n",
            "Epoch 186/200\n",
            "10/10 [==============================] - 0s 3ms/step - loss: 1.8411 - mae: 1.8411 - mse: 8.3321 - val_loss: 1.6002 - val_mae: 1.6002 - val_mse: 6.2144\n",
            "Epoch 187/200\n",
            "10/10 [==============================] - 0s 4ms/step - loss: 1.8411 - mae: 1.8411 - mse: 8.3378 - val_loss: 1.6022 - val_mae: 1.6022 - val_mse: 6.2223\n",
            "Epoch 188/200\n",
            "10/10 [==============================] - 0s 4ms/step - loss: 1.8414 - mae: 1.8414 - mse: 8.3383 - val_loss: 1.5991 - val_mae: 1.5991 - val_mse: 6.2083\n",
            "Epoch 189/200\n",
            "10/10 [==============================] - 0s 4ms/step - loss: 1.8410 - mae: 1.8410 - mse: 8.3262 - val_loss: 1.5993 - val_mae: 1.5993 - val_mse: 6.2088\n",
            "Epoch 190/200\n",
            "10/10 [==============================] - 0s 4ms/step - loss: 1.8406 - mae: 1.8406 - mse: 8.3288 - val_loss: 1.6007 - val_mae: 1.6007 - val_mse: 6.2146\n",
            "Epoch 191/200\n",
            "10/10 [==============================] - 0s 4ms/step - loss: 1.8407 - mae: 1.8407 - mse: 8.3292 - val_loss: 1.6000 - val_mae: 1.6000 - val_mse: 6.2109\n",
            "Epoch 192/200\n",
            "10/10 [==============================] - 0s 4ms/step - loss: 1.8406 - mae: 1.8406 - mse: 8.3324 - val_loss: 1.6007 - val_mae: 1.6007 - val_mse: 6.2138\n",
            "Epoch 193/200\n",
            "10/10 [==============================] - 0s 4ms/step - loss: 1.8403 - mae: 1.8403 - mse: 8.3292 - val_loss: 1.5987 - val_mae: 1.5987 - val_mse: 6.2038\n",
            "Epoch 194/200\n",
            "10/10 [==============================] - 0s 4ms/step - loss: 1.8404 - mae: 1.8404 - mse: 8.3245 - val_loss: 1.5992 - val_mae: 1.5992 - val_mse: 6.2057\n",
            "Epoch 195/200\n",
            "10/10 [==============================] - 0s 4ms/step - loss: 1.8404 - mae: 1.8404 - mse: 8.3237 - val_loss: 1.5997 - val_mae: 1.5997 - val_mse: 6.2079\n",
            "Epoch 196/200\n",
            "10/10 [==============================] - 0s 4ms/step - loss: 1.8402 - mae: 1.8402 - mse: 8.3276 - val_loss: 1.5992 - val_mae: 1.5992 - val_mse: 6.2047\n",
            "Epoch 197/200\n",
            "10/10 [==============================] - 0s 4ms/step - loss: 1.8400 - mae: 1.8400 - mse: 8.3265 - val_loss: 1.6000 - val_mae: 1.6000 - val_mse: 6.2079\n",
            "Epoch 198/200\n",
            "10/10 [==============================] - 0s 4ms/step - loss: 1.8409 - mae: 1.8409 - mse: 8.3174 - val_loss: 1.5978 - val_mae: 1.5978 - val_mse: 6.1973\n",
            "Epoch 199/200\n",
            "10/10 [==============================] - 0s 4ms/step - loss: 1.8403 - mae: 1.8403 - mse: 8.3293 - val_loss: 1.6019 - val_mae: 1.6019 - val_mse: 6.2151\n",
            "Epoch 200/200\n",
            "10/10 [==============================] - 0s 4ms/step - loss: 1.8401 - mae: 1.8401 - mse: 8.3269 - val_loss: 1.5980 - val_mae: 1.5980 - val_mse: 6.1975\n"
          ],
          "name": "stdout"
        }
      ]
    },
    {
      "cell_type": "code",
      "metadata": {
        "id": "6zYkLGS6wQyy",
        "colab": {
          "base_uri": "https://localhost:8080/"
        },
        "outputId": "bf87bb15-59a2-4408-8174-6b6df6c46658"
      },
      "source": [
        "print(history)"
      ],
      "execution_count": 26,
      "outputs": [
        {
          "output_type": "stream",
          "text": [
            "<tensorflow.python.keras.callbacks.History object at 0x7f4622198a90>\n"
          ],
          "name": "stdout"
        }
      ]
    },
    {
      "cell_type": "code",
      "metadata": {
        "colab": {
          "base_uri": "https://localhost:8080/"
        },
        "id": "1lsbk_ohAu1j",
        "outputId": "34a3ad49-f80f-48de-d2f2-bad82280ad86"
      },
      "source": [
        "model.summary()"
      ],
      "execution_count": 27,
      "outputs": [
        {
          "output_type": "stream",
          "text": [
            "Model: \"sequential\"\n",
            "_________________________________________________________________\n",
            "Layer (type)                 Output Shape              Param #   \n",
            "=================================================================\n",
            "dense (Dense)                (None, 1)                 2         \n",
            "=================================================================\n",
            "Total params: 2\n",
            "Trainable params: 2\n",
            "Non-trainable params: 0\n",
            "_________________________________________________________________\n"
          ],
          "name": "stdout"
        }
      ]
    },
    {
      "cell_type": "code",
      "metadata": {
        "colab": {
          "base_uri": "https://localhost:8080/",
          "height": 1000
        },
        "id": "P6VnkPim7tH7",
        "outputId": "f31a95a7-d2df-4fb4-fe4a-7fdb3b73a065"
      },
      "source": [
        "# tempString = 'mse'\n",
        "def curvePlots(tempString):\n",
        "  plt.plot(history.history[tempString])\n",
        "  plt.plot(history.history[f'val_{tempString}'])\n",
        "  plt.xlabel('NumEpochs')\n",
        "  plt.ylabel(tempString)\n",
        "  plt.legend([tempString, f'val_{tempString}'])\n",
        "  plt.show()\n",
        "\n",
        "\n",
        "curvePlots('mse')\n",
        "curvePlots('mae')\n",
        "curvePlots('loss')"
      ],
      "execution_count": 28,
      "outputs": [
        {
          "output_type": "display_data",
          "data": {
            "image/png": "[encoded data removed]",
            "text/plain": [
              "<Figure size 576x396 with 1 Axes>"
            ]
          },
          "metadata": {
            "tags": []
          }
        },
        {
          "output_type": "display_data",
          "data": {
            "image/png": "[encoded data removed]",
            "text/plain": [
              "<Figure size 576x396 with 1 Axes>"
            ]
          },
          "metadata": {
            "tags": []
          }
        },
        {
          "output_type": "display_data",
          "data": {
            "image/png": "[encoded data removed]",
            "text/plain": [
              "<Figure size 576x396 with 1 Axes>"
            ]
          },
          "metadata": {
            "tags": []
          }
        }
      ]
    },
    {
      "cell_type": "code",
      "metadata": {
        "id": "esW0eHQbzoj4",
        "colab": {
          "base_uri": "https://localhost:8080/"
        },
        "outputId": "ccd634a0-e43a-4860-8cf0-12f0141f70ee"
      },
      "source": [
        "model.predict([1])"
      ],
      "execution_count": 29,
      "outputs": [
        {
          "output_type": "execute_result",
          "data": {
            "text/plain": [
              "array([[1.1370087]], dtype=float32)"
            ]
          },
          "metadata": {
            "tags": []
          },
          "execution_count": 29
        }
      ]
    },
    {
      "cell_type": "code",
      "metadata": {
        "colab": {
          "base_uri": "https://localhost:8080/"
        },
        "id": "KJrLWamX8Tg-",
        "outputId": "99aeefae-8775-4edb-a1cd-e11f59ea60cb"
      },
      "source": [
        "# testPreds = model.predict(testFeatures).flatten() #array of all prediction values\n",
        "\n",
        "#for single values\n",
        "\n",
        "print(f'Prediction for input value 1: {model.predict([1])}')\n",
        "\n",
        "\n",
        "# for a list of values\n",
        "tempListforPreds = [1,2,3,4,5]\n",
        "print(f'''\n",
        "\n",
        "input List = {tempListforPreds}\n",
        "\n",
        "\n",
        "List of Predictions:\n",
        "{model.predict(tempListforPreds)}\n",
        "\n",
        "List of Predictions (flattened out):\n",
        "{model.predict(tempListforPreds).flatten()}\n",
        "''')"
      ],
      "execution_count": 30,
      "outputs": [
        {
          "output_type": "stream",
          "text": [
            "Prediction for input value 1: [[1.1370087]]\n",
            "\n",
            "\n",
            "input List = [1, 2, 3, 4, 5]\n",
            "\n",
            "\n",
            "List of Predictions:\n",
            "[[1.1370087]\n",
            " [2.123738 ]\n",
            " [3.1104674]\n",
            " [4.0971966]\n",
            " [5.083926 ]]\n",
            "\n",
            "List of Predictions (flattened out):\n",
            "[1.1370087 2.123738  3.1104674 4.0971966 5.083926 ]\n",
            "\n"
          ],
          "name": "stdout"
        }
      ]
    },
    {
      "cell_type": "code",
      "metadata": {
        "id": "vJNFh6hc0K6r",
        "colab": {
          "base_uri": "https://localhost:8080/"
        },
        "outputId": "37c10077-e3a0-4a97-e732-8ffa074e8b43"
      },
      "source": [
        "print(testFeatures)"
      ],
      "execution_count": 31,
      "outputs": [
        {
          "output_type": "stream",
          "text": [
            "     G1\n",
            "9    14\n",
            "25    6\n",
            "28   11\n",
            "31   17\n",
            "32   17\n",
            "..   ..\n",
            "365  10\n",
            "367   7\n",
            "379  10\n",
            "381   7\n",
            "393  11\n",
            "\n",
            "[79 rows x 1 columns]\n"
          ],
          "name": "stdout"
        }
      ]
    },
    {
      "cell_type": "code",
      "metadata": {
        "id": "MniGZOu50IyN"
      },
      "source": [
        "testPreds = model.predict(testFeatures).flatten() #array of all prediction values"
      ],
      "execution_count": 32,
      "outputs": []
    },
    {
      "cell_type": "code",
      "metadata": {
        "id": "du0Orwu40Qan",
        "colab": {
          "base_uri": "https://localhost:8080/"
        },
        "outputId": "e1f17372-2165-4967-e932-afec681e6323"
      },
      "source": [
        "print(len(testPreds))\n",
        "print(testPreds)"
      ],
      "execution_count": 33,
      "outputs": [
        {
          "output_type": "stream",
          "text": [
            "79\n",
            "[13.96449    6.070656  11.004302  16.924679  16.924679  11.991032\n",
            " 13.96449   18.898138  18.898138   8.044114  13.96449   12.977761\n",
            "  8.044114   7.0573845  9.030844  12.977761  11.004302  15.937949\n",
            "  7.0573845 10.017573  14.95122   12.977761  13.96449   15.937949\n",
            "  7.0573845  7.0573845  8.044114  10.017573  11.991032  10.017573\n",
            " 11.991032  12.977761  10.017573   6.070656   9.030844  11.991032\n",
            "  7.0573845  8.044114  13.96449    9.030844   9.030844   7.0573845\n",
            " 11.991032   6.070656  12.977761   7.0573845  7.0573845 11.004302\n",
            " 12.977761  16.924679  11.991032  14.95122    9.030844  11.991032\n",
            " 14.95122   11.991032  14.95122   11.991032  14.95122   11.004302\n",
            " 11.991032   8.044114  15.937949   7.0573845 15.937949  11.004302\n",
            " 15.937949  12.977761   8.044114   8.044114  11.991032  17.91141\n",
            " 12.977761  15.937949  10.017573   7.0573845 10.017573   7.0573845\n",
            " 11.004302 ]\n"
          ],
          "name": "stdout"
        }
      ]
    },
    {
      "cell_type": "code",
      "metadata": {
        "colab": {
          "base_uri": "https://localhost:8080/",
          "height": 361
        },
        "id": "EfP8bB_v89Wa",
        "outputId": "cbef1bdc-b768-4774-da4c-e720bd214901"
      },
      "source": [
        "# prediciton plot --> how well is your model predicting across the actual labels\n",
        "\n",
        "def predPlot(labels, predictions):\n",
        "  plt.scatter(labels, predictions)\n",
        "  plt.ylabel('Predictions')\n",
        "  plt.xlabel('True Value or Labels')\n",
        "  plt.axis('equal')\n",
        "  plt.axis('square')\n",
        "  plt.xlim([0, plt.xlim()[1]])\n",
        "  plt.ylim([0, plt.ylim()[1]])\n",
        "  plt.show()\n",
        "\n",
        "predPlot(testLabels, testPreds)"
      ],
      "execution_count": 34,
      "outputs": [
        {
          "output_type": "display_data",
          "data": {
            "image/png": "[encoded data removed]",
            "text/plain": [
              "<Figure size 576x396 with 1 Axes>"
            ]
          },
          "metadata": {
            "tags": []
          }
        }
      ]
    },
    {
      "cell_type": "code",
      "metadata": {
        "colab": {
          "base_uri": "https://localhost:8080/",
          "height": 361
        },
        "id": "70608Z0o9tWL",
        "outputId": "017bb2ce-ac42-4a61-ad70-d69c00cd8d92"
      },
      "source": [
        "#error plot --> gaussian distribution \n",
        "\n",
        "def errorPlot(preds, labels, counts):\n",
        "  errors = preds - labels\n",
        "  plt.hist(errors, counts)\n",
        "  plt.xlabel('Error')\n",
        "  plt.ylabel('Counts')\n",
        "  plt.show()\n",
        "\n",
        "errorPlot(testPreds, testLabels, numEpochs)"
      ],
      "execution_count": 35,
      "outputs": [
        {
          "output_type": "display_data",
          "data": {
            "image/png": "[encoded data removed]",
            "text/plain": [
              "<Figure size 576x396 with 1 Axes>"
            ]
          },
          "metadata": {
            "tags": []
          }
        }
      ]
    }
  ]
}